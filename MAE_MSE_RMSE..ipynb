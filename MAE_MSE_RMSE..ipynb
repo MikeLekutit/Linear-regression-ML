{
 "cells": [
  {
   "cell_type": "code",
   "execution_count": 1,
   "id": "312b24d9",
   "metadata": {},
   "outputs": [],
   "source": [
    "import pandas as pd\n",
    "import numpy as np\n",
    "from sklearn.linear_model import LinearRegression\n",
    "from sklearn.metrics import mean_absolute_error, mean_squared_error"
   ]
  },
  {
   "cell_type": "code",
   "execution_count": 2,
   "id": "4d47cb47",
   "metadata": {},
   "outputs": [],
   "source": [
    "import pandas as pd"
   ]
  },
  {
   "cell_type": "code",
   "execution_count": 3,
   "id": "6ed4d533",
   "metadata": {},
   "outputs": [],
   "source": [
    "data = pd.read_csv(r'C:\\Users\\mikes\\Downloads\\insurance.csv')"
   ]
  },
  {
   "cell_type": "code",
   "execution_count": 4,
   "id": "5fb2971d",
   "metadata": {},
   "outputs": [],
   "source": [
    "#define target variable"
   ]
  },
  {
   "cell_type": "code",
   "execution_count": 5,
   "id": "cff2e998",
   "metadata": {},
   "outputs": [],
   "source": [
    "y = data['charges']"
   ]
  },
  {
   "cell_type": "code",
   "execution_count": 6,
   "id": "77420beb",
   "metadata": {},
   "outputs": [],
   "source": [
    "#define the features"
   ]
  },
  {
   "cell_type": "code",
   "execution_count": 11,
   "id": "28cb1bf0",
   "metadata": {},
   "outputs": [],
   "source": [
    "X = data.drop(['charges'], axis=1)"
   ]
  },
  {
   "cell_type": "code",
   "execution_count": 12,
   "id": "fae9a069",
   "metadata": {},
   "outputs": [],
   "source": [
    "#encode categorical varibles"
   ]
  },
  {
   "cell_type": "code",
   "execution_count": 13,
   "id": "99ed2e68",
   "metadata": {},
   "outputs": [],
   "source": [
    "X = pd.get_dummies(X)"
   ]
  },
  {
   "cell_type": "code",
   "execution_count": 14,
   "id": "279a4c47",
   "metadata": {},
   "outputs": [],
   "source": [
    "#split data into training and testing sets"
   ]
  },
  {
   "cell_type": "code",
   "execution_count": 20,
   "id": "32a7680a",
   "metadata": {},
   "outputs": [],
   "source": [
    "train_X = X[:-20]\n",
    "train_y = y[:-20]\n",
    "test_X = X[-20:]\n",
    "test_y = y[-20:]"
   ]
  },
  {
   "cell_type": "code",
   "execution_count": 16,
   "id": "40088887",
   "metadata": {},
   "outputs": [],
   "source": [
    "#train a linear regression model"
   ]
  },
  {
   "cell_type": "code",
   "execution_count": 17,
   "id": "0311974f",
   "metadata": {},
   "outputs": [
    {
     "data": {
      "text/plain": [
       "LinearRegression()"
      ]
     },
     "execution_count": 17,
     "metadata": {},
     "output_type": "execute_result"
    }
   ],
   "source": [
    "model = LinearRegression()\n",
    "model.fit(train_X, train_y)"
   ]
  },
  {
   "cell_type": "code",
   "execution_count": 18,
   "id": "ab7abc8a",
   "metadata": {},
   "outputs": [],
   "source": [
    "y_pred = model.predict(test_X)"
   ]
  },
  {
   "cell_type": "code",
   "execution_count": 21,
   "id": "17088b39",
   "metadata": {},
   "outputs": [
    {
     "name": "stdout",
     "output_type": "stream",
     "text": [
      "Mean Absolute Error: 4367.5236060002235\n",
      "Mean Squared Error: 38191757.68319822\n",
      "Root Mean Squared Error: 6179.948032402717\n"
     ]
    }
   ],
   "source": [
    "mae = mean_absolute_error(test_y, y_pred)\n",
    "mse = mean_squared_error(test_y, y_pred)\n",
    "rmse = np.sqrt(mse)\n",
    "\n",
    "print('Mean Absolute Error:', mae)\n",
    "print('Mean Squared Error:', mse)\n",
    "print('Root Mean Squared Error:', rmse)"
   ]
  },
  {
   "cell_type": "code",
   "execution_count": null,
   "id": "9b842dfe",
   "metadata": {},
   "outputs": [],
   "source": []
  }
 ],
 "metadata": {
  "kernelspec": {
   "display_name": "Python 3 (ipykernel)",
   "language": "python",
   "name": "python3"
  },
  "language_info": {
   "codemirror_mode": {
    "name": "ipython",
    "version": 3
   },
   "file_extension": ".py",
   "mimetype": "text/x-python",
   "name": "python",
   "nbconvert_exporter": "python",
   "pygments_lexer": "ipython3",
   "version": "3.9.13"
  }
 },
 "nbformat": 4,
 "nbformat_minor": 5
}
